{
 "cells": [
  {
   "cell_type": "code",
   "execution_count": 94,
   "metadata": {
    "collapsed": true,
    "pycharm": {
     "name": "#%%\n"
    }
   },
   "outputs": [
    {
     "name": "stdout",
     "output_type": "stream",
     "text": [
      "Loaded \"b\", (4263, 10), deduped to (8540, 10) (diff: 4277)\n",
      "Loaded \"c\", (8540, 10), deduped to (12180, 10) (diff: 3640)\n",
      "Loaded \"d\", (12180, 10), deduped to (15661, 10) (diff: 3481)\n",
      "Loaded \"e\", (15661, 10), deduped to (18784, 10) (diff: 3123)\n",
      "Loaded \"f\", (18784, 10), deduped to (21666, 10) (diff: 2882)\n",
      "Loaded \"g\", (21666, 10), deduped to (24291, 10) (diff: 2625)\n",
      "Loaded \"h\", (24291, 10), deduped to (26721, 10) (diff: 2430)\n",
      "Loaded \"i\", (26721, 10), deduped to (28201, 10) (diff: 1480)\n",
      "Got unexpected number 36 records in ../yahoo/lookup/equity/j/yahoo_symbols_2600_2650.json\n",
      "Loaded \"j\", (28201, 10), deduped to (29983, 10) (diff: 1782)\n",
      "Got unexpected number 23 records in ../yahoo/lookup/equity/k/yahoo_symbols_4600_4650.json\n",
      "Loaded \"k\", (29983, 10), deduped to (33047, 10) (diff: 3064)\n",
      "Loaded \"l\", (33047, 10), deduped to (34558, 10) (diff: 1511)\n",
      "Loaded \"m\", (34558, 10), deduped to (36109, 10) (diff: 1551)\n",
      "Loaded \"n\", (36109, 10), deduped to (38215, 10) (diff: 2106)\n",
      "Loaded \"o\", (38215, 10), deduped to (39788, 10) (diff: 1573)\n",
      "Loaded \"p\", (39788, 10), deduped to (40650, 10) (diff: 862)\n",
      "Got unexpected number 32 records in ../yahoo/lookup/equity/q/yahoo_symbols_850_900.json\n",
      "Loaded \"q\", (40650, 10), deduped to (41161, 10) (diff: 511)\n",
      "Loaded \"r\", (41161, 10), deduped to (42751, 10) (diff: 1590)\n",
      "Loaded \"s\", (42751, 10), deduped to (43332, 10) (diff: 581)\n",
      "Loaded \"t\", (43332, 10), deduped to (44052, 10) (diff: 720)\n",
      "Got unexpected number 21 records in ../yahoo/lookup/equity/u/yahoo_symbols_3550_3600.json\n",
      "Loaded \"u\", (44052, 10), deduped to (45839, 10) (diff: 1787)\n",
      "Got unexpected number 0 records in ../yahoo/lookup/equity/v/yahoo_symbols_950_1000.json\n",
      "Loaded \"v\", (45839, 10), deduped to (45941, 10) (diff: 102)\n",
      "Got unexpected number 35 records in ../yahoo/lookup/equity/w/yahoo_symbols_4300_4350.json\n",
      "Loaded \"w\", (45941, 10), deduped to (48177, 10) (diff: 2236)\n",
      "Got unexpected number 21 records in ../yahoo/lookup/equity/x/yahoo_symbols_950_1000.json\n",
      "Loaded \"x\", (48177, 10), deduped to (48757, 10) (diff: 580)\n",
      "Got unexpected number 28 records in ../yahoo/lookup/equity/y/yahoo_symbols_1950_2000.json\n",
      "Loaded \"y\", (48757, 10), deduped to (49876, 10) (diff: 1119)\n",
      "Got unexpected number 40 records in ../yahoo/lookup/equity/z/yahoo_symbols_1800_1850.json\n",
      "Loaded \"z\", (49876, 10), deduped to (50839, 10) (diff: 963)\n",
      "Loaded \"a\", (50839, 10), deduped to (54794, 10) (diff: 3955)\n",
      "Loaded \"b\", (54794, 10), deduped to (58323, 10) (diff: 3529)\n",
      "Loaded \"c\", (58323, 10), deduped to (61382, 10) (diff: 3059)\n",
      "Loaded \"d\", (61382, 10), deduped to (63995, 10) (diff: 2613)\n",
      "Loaded \"e\", (63995, 10), deduped to (66082, 10) (diff: 2087)\n",
      "Loaded \"f\", (66082, 10), deduped to (68227, 10) (diff: 2145)\n",
      "Loaded \"g\", (68227, 10), deduped to (69877, 10) (diff: 1650)\n",
      "Got unexpected number 45 records in ../yahoo/lookup/etf/h/yahoo_symbols_3400_3450.json\n",
      "Loaded \"h\", (69877, 10), deduped to (71255, 10) (diff: 1378)\n",
      "Loaded \"i\", (71255, 10), deduped to (72141, 10) (diff: 886)\n",
      "Got unexpected number 3 records in ../yahoo/lookup/etf/j/yahoo_symbols_2350_2400.json\n",
      "Loaded \"j\", (72141, 10), deduped to (73181, 10) (diff: 1040)\n",
      "Got unexpected number 31 records in ../yahoo/lookup/etf/k/yahoo_symbols_950_1000.json\n",
      "Loaded \"k\", (73181, 10), deduped to (73604, 10) (diff: 423)\n",
      "Loaded \"l\", (73604, 10), deduped to (74810, 10) (diff: 1206)\n",
      "Loaded \"m\", (74810, 10), deduped to (75522, 10) (diff: 712)\n",
      "Got unexpected number 16 records in ../yahoo/lookup/etf/n/yahoo_symbols_2400_2450.json\n",
      "Loaded \"n\", (75522, 10), deduped to (76378, 10) (diff: 856)\n",
      "Got unexpected number 14 records in ../yahoo/lookup/etf/o/yahoo_symbols_950_1000.json\n",
      "Loaded \"o\", (76378, 10), deduped to (76738, 10) (diff: 360)\n",
      "Loaded \"p\", (76738, 10), deduped to (77716, 10) (diff: 978)\n",
      "Got unexpected number 11 records in ../yahoo/lookup/etf/q/yahoo_symbols_450_500.json\n",
      "Loaded \"q\", (77716, 10), deduped to (77870, 10) (diff: 154)\n",
      "Got unexpected number 45 records in ../yahoo/lookup/etf/r/yahoo_symbols_2600_2650.json\n",
      "Loaded \"r\", (77870, 10), deduped to (78650, 10) (diff: 780)\n",
      "Loaded \"s\", (78650, 10), deduped to (79000, 10) (diff: 350)\n",
      "Got unexpected number 19 records in ../yahoo/lookup/etf/t/yahoo_symbols_4450_4500.json\n",
      "Loaded \"t\", (79000, 10), deduped to (80011, 10) (diff: 1011)\n",
      "Loaded \"u\", (80011, 10), deduped to (80285, 10) (diff: 274)\n",
      "Got unexpected number 1 records in ../yahoo/lookup/etf/v/yahoo_symbols_2750_2800.json\n",
      "Loaded \"v\", (80285, 10), deduped to (80799, 10) (diff: 514)\n",
      "Got unexpected number 6 records in ../yahoo/lookup/etf/w/yahoo_symbols_2650_2700.json\n",
      "Loaded \"w\", (80799, 10), deduped to (81465, 10) (diff: 666)\n",
      "Got unexpected number 13 records in ../yahoo/lookup/etf/x/yahoo_symbols_2300_2350.json\n",
      "Loaded \"x\", (81465, 10), deduped to (82122, 10) (diff: 657)\n",
      "Got unexpected number 6 records in ../yahoo/lookup/etf/y/yahoo_symbols_700_750.json\n",
      "Loaded \"y\", (82122, 10), deduped to (82222, 10) (diff: 100)\n",
      "Got unexpected number 7 records in ../yahoo/lookup/etf/z/yahoo_symbols_150_200.json\n",
      "Loaded \"z\", (82222, 10), deduped to (82255, 10) (diff: 33)\n"
     ]
    },
    {
     "data": {
      "text/plain": "<bound method DataFrame.info of                    industryName  \\\nsymbol                            \nAAPL                 Technology   \nAMZN          Consumer Cyclical   \nAMD                  Technology   \nGOOG     Communication Services   \nF             Consumer Cyclical   \n...                         ...   \nFP7R.DU                     NaN   \nOD5A.DU                     NaN   \nJ7NE.DU                     NaN   \nOD5A.F                      NaN   \nU2IU.MU                     NaN   \n\n                                              industryLink  \\\nsymbol                                                       \nAAPL           https://finance.yahoo.com/sector/technology   \nAMZN     https://finance.yahoo.com/sector/consumer_cycl...   \nAMD            https://finance.yahoo.com/sector/technology   \nGOOG     https://finance.yahoo.com/sector/communication...   \nF        https://finance.yahoo.com/sector/consumer_cycl...   \n...                                                    ...   \nFP7R.DU                                                NaN   \nOD5A.DU                                                NaN   \nJ7NE.DU                                                NaN   \nOD5A.F                                                 NaN   \nU2IU.MU                                                NaN   \n\n                    regularMarketPercentChange  \\\nsymbol                                           \nAAPL       {'raw': 0.33903462, 'fmt': '0.34%'}   \nAMZN        {'raw': 1.3403072, 'fmt': '1.34%'}   \nAMD       {'raw': -2.1777453, 'fmt': '-2.18%'}   \nGOOG      {'raw': 0.040335704, 'fmt': '0.04%'}   \nF         {'raw': -2.3558078, 'fmt': '-2.36%'}   \n...                                        ...   \nFP7R.DU  {'raw': -0.11931341, 'fmt': '-0.12%'}   \nOD5A.DU   {'raw': -0.4295221, 'fmt': '-0.43%'}   \nJ7NE.DU  {'raw': -0.14038634, 'fmt': '-0.14%'}   \nOD5A.F     {'raw': 0.27247837, 'fmt': '0.27%'}   \nU2IU.MU  {'raw': -0.26261276, 'fmt': '-0.26%'}   \n\n                          regularMarketChange      rank exchange  \\\nsymbol                                                             \nAAPL       {'raw': 0.51000977, 'fmt': '0.51'}  172245.0      NMS   \nAMZN        {'raw': 1.5250015, 'fmt': '1.53'}  122155.0      NMS   \nAMD       {'raw': -1.4799957, 'fmt': '-1.48'}   97827.0      NMS   \nGOOG      {'raw': 0.040000916, 'fmt': '0.04'}   82985.0      NMS   \nF        {'raw': -0.28999996, 'fmt': '-0.29'}   81368.0      NYQ   \n...                                       ...       ...      ...   \nFP7R.DU  {'raw': -0.10600281, 'fmt': '-0.11'}       NaN      DUS   \nOD5A.DU  {'raw': -0.11000061, 'fmt': '-0.11'}       NaN      DUS   \nJ7NE.DU       {'raw': -0.125, 'fmt': '-0.12'}       NaN      DUS   \nOD5A.F    {'raw': 0.069999695, 'fmt': '0.07'}       NaN      FRA   \nU2IU.MU  {'raw': -0.36999512, 'fmt': '-0.37'}       NaN      MUN   \n\n                            shortName quoteType  \\\nsymbol                                            \nAAPL                       Apple Inc.    equity   \nAMZN                 Amazon.com, Inc.    equity   \nAMD      Advanced Micro Devices, Inc.    equity   \nGOOG                    Alphabet Inc.    equity   \nF                  Ford Motor Company    equity   \n...                               ...       ...   \nFP7R.DU      DWS-ESG ZINSEINKOMMEN LD       etf   \nOD5A.DU                SEB ZINSGLOBAL       etf   \nJ7NE.DU     SCHOELLERBK ZINSSTR.PL. A       etf   \nOD5A.F                 SEB ZINSGLOBAL       etf   \nU2IU.MU             ZINSPLUS FONDS UI       etf   \n\n                        regularMarketPrice  \nsymbol                                      \nAAPL      {'raw': 150.94, 'fmt': '150.94'}  \nAMZN     {'raw': 115.305, 'fmt': '115.31'}  \nAMD         {'raw': 66.48, 'fmt': '66.48'}  \nGOOG        {'raw': 99.21, 'fmt': '99.21'}  \nF           {'raw': 12.02, 'fmt': '12.02'}  \n...                                    ...  \nFP7R.DU    {'raw': 88.738, 'fmt': '88.74'}  \nOD5A.DU      {'raw': 25.5, 'fmt': '25.50'}  \nJ7NE.DU    {'raw': 88.915, 'fmt': '88.92'}  \nOD5A.F      {'raw': 25.76, 'fmt': '25.76'}  \nU2IU.MU   {'raw': 140.52, 'fmt': '140.52'}  \n\n[82255 rows x 9 columns]>"
     },
     "execution_count": 94,
     "metadata": {},
     "output_type": "execute_result"
    }
   ],
   "source": [
    "import json\n",
    "import os.path\n",
    "\n",
    "import pandas as pd\n",
    "\n",
    "symbols = None\n",
    "for type_dir in ['equity', 'etf']:\n",
    "    for ch in range(ord('a'), ord('z') + 1):\n",
    "        letter = chr(ch)\n",
    "        before = symbols.shape if symbols is not None else None\n",
    "        first, last, count = 0, 5000, 50\n",
    "        for start in range(first, last, count):\n",
    "            path = f'../yahoo/lookup/{type_dir}/{letter}/yahoo_symbols_{start}_{start+count}.json'\n",
    "            if os.path.exists(path):\n",
    "                with open(path) as f:\n",
    "                    js = json.load(f)\n",
    "                    docs = js['finance']['result'][0]['documents']\n",
    "                    if len(docs) != 50:\n",
    "                        print(f'Got unexpected number {len(docs)} records in {path}')\n",
    "                        break\n",
    "                    df = pd.DataFrame.from_records(docs)\n",
    "                    symbols = df if symbols is None else pd.concat([symbols, df])\n",
    "                    symbols = symbols.drop_duplicates(subset=['symbol'])\n",
    "        after = symbols.shape\n",
    "        if before is not None:\n",
    "            print(f'Loaded \"{letter}\", {before}, deduped to {after} (diff: {after[0] - before[0]})')\n",
    "symbols = symbols.set_index('symbol')\n",
    "symbols.info"
   ]
  },
  {
   "cell_type": "code",
   "execution_count": 57,
   "outputs": [
    {
     "data": {
      "text/plain": "33047"
     },
     "execution_count": 57,
     "metadata": {},
     "output_type": "execute_result"
    }
   ],
   "source": [
    "\n",
    "symbols.index.nunique()"
   ],
   "metadata": {
    "collapsed": false,
    "pycharm": {
     "name": "#%%\n"
    }
   }
  },
  {
   "cell_type": "code",
   "execution_count": 95,
   "outputs": [
    {
     "data": {
      "text/plain": "        industryName industryLink             regularMarketPercentChange  \\\nsymbol                                                                     \nVOOL.DE          NaN          NaN     {'raw': 1.1421454, 'fmt': '1.14%'}   \nVOON.BE          NaN          NaN     {'raw': 1.3527263, 'fmt': '1.35%'}   \nVOOM.F           NaN          NaN     {'raw': 1.4091936, 'fmt': '1.41%'}   \nVOOL.HM          NaN          NaN      {'raw': 5.276525, 'fmt': '5.28%'}   \nIVOO             NaN          NaN    {'raw': 0.86542904, 'fmt': '0.87%'}   \nVOOP.BE          NaN          NaN  {'raw': -0.47993857, 'fmt': '-0.48%'}   \nVOO              NaN          NaN     {'raw': 0.7244248, 'fmt': '0.72%'}   \nVOOG             NaN          NaN     {'raw': 0.4688324, 'fmt': '0.47%'}   \nVOOV             NaN          NaN    {'raw': 0.97280407, 'fmt': '0.97%'}   \nVOO.MX           NaN          NaN   {'raw': -0.2637749, 'fmt': '-0.26%'}   \nVOOL.F           NaN          NaN   {'raw': -1.9029478, 'fmt': '-1.90%'}   \nVOOM.DE          NaN          NaN     {'raw': 1.1331948, 'fmt': '1.13%'}   \nVOOM.MU          NaN          NaN           {'raw': 0.0, 'fmt': '0.00%'}   \nVOOM.BE          NaN          NaN     {'raw': 1.0649419, 'fmt': '1.06%'}   \nVOOL.BE          NaN          NaN   {'raw': -1.2310174, 'fmt': '-1.23%'}   \nVOOL.DU          NaN          NaN    {'raw': 0.21002333, 'fmt': '0.21%'}   \nVOOM.DU          NaN          NaN     {'raw': 1.2620513, 'fmt': '1.26%'}   \nVOOL.MU          NaN          NaN     {'raw': 1.8587852, 'fmt': '1.86%'}   \n\n                           regularMarketChange      rank exchange  \\\nsymbol                                                              \nVOOL.DE    {'raw': 0.041499853, 'fmt': '0.04'}   20110.0      GER   \nVOON.BE     {'raw': 0.18599987, 'fmt': '0.19'}   20003.0      BER   \nVOOM.F      {'raw': 0.15999985, 'fmt': '0.16'}   20001.0      FRA   \nVOOL.HM     {'raw': 0.18700004, 'fmt': '0.19'}   20001.0      HAM   \nIVOO           {'raw': 1.28589, 'fmt': '1.29'}   20213.0      PCX   \nVOOP.BE        {'raw': -0.125, 'fmt': '-0.12'}   20001.0      BER   \nVOO          {'raw': 2.4190063, 'fmt': '2.42'}  100428.0      PCX   \nVOOG          {'raw': 1.003006, 'fmt': '1.00'}   21990.0      PCX   \nVOOV         {'raw': 1.2199936, 'fmt': '1.22'}   21054.0      PCX   \nVOO.MX         {'raw': -18.0, 'fmt': '-18.00'}   20133.0      MEX   \nVOOL.F    {'raw': -0.06999993, 'fmt': '-0.07'}   20001.0      FRA   \nVOOM.DE     {'raw': 0.13000011, 'fmt': '0.13'}   20001.0      GER   \nVOOM.MU            {'raw': 0.0, 'fmt': '0.00'}   20001.0      MUN   \nVOOM.BE     {'raw': 0.12199974, 'fmt': '0.12'}   20001.0      BER   \nVOOL.BE  {'raw': -0.044999838, 'fmt': '-0.04'}   20001.0      BER   \nVOOL.DU   {'raw': 0.0074999332, 'fmt': '0.01'}   20001.0      DUS   \nVOOM.DU     {'raw': 0.14400005, 'fmt': '0.14'}   20001.0      DUS   \nVOOL.MU     {'raw': 0.06699991, 'fmt': '0.07'}   20001.0      MUN   \n\n                               shortName quoteType  \\\nsymbol                                               \nVOOL.DE          MUL-LYX.S+P500VFER UE A       etf   \nVOON.BE        M-L.S+P 500 D.(-2X)I.UE A       etf   \nVOOM.F           MUL-LX.GL.GEN.EQUALI. A       etf   \nVOOL.HM          MUL-LYX.S+P500VFER UE A       etf   \nIVOO        Vanguard S&P Mid-Cap 400 ETF       etf   \nVOOP.BE           LYXOR CAC 40(DR)UE EOA       etf   \nVOO                 Vanguard S&P 500 ETF       etf   \nVOOG         Vanguard S&P 500 Growth ETF       etf   \nVOOV          Vanguard S&P 500 Value ETF       etf   \nVOO.MX   VANGUARD INDEX FUNDS S&P 500 ET       etf   \nVOOL.F           MUL-LYX.S+P500VFER UE A       etf   \nVOOM.DE          MUL-LX.GL.GEN.EQUALI. A       etf   \nVOOM.MU          MUL-LX.GL.GEN.EQUALI. A       etf   \nVOOM.BE          MUL-LX.GL.GEN.EQUALI. A       etf   \nVOOL.BE          MUL-LYX.S+P500VFER UE A       etf   \nVOOL.DU          MUL-LYX.S+P500VFER UE A       etf   \nVOOM.DU          MUL-LX.GL.GEN.EQUALI. A       etf   \nVOOL.MU          MUL-LYX.S+P500VFER UE A       etf   \n\n                         regularMarketPrice  \nsymbol                                       \nVOOL.DE       {'raw': 3.675, 'fmt': '3.67'}  \nVOON.BE     {'raw': 13.936, 'fmt': '13.94'}  \nVOOM.F      {'raw': 11.514, 'fmt': '11.51'}  \nVOOL.HM       {'raw': 3.731, 'fmt': '3.73'}  \nIVOO       {'raw': 149.87, 'fmt': '149.87'}  \nVOOP.BE      {'raw': 25.92, 'fmt': '25.92'}  \nVOO        {'raw': 336.34, 'fmt': '336.34'}  \nVOOG       {'raw': 214.94, 'fmt': '214.94'}  \nVOOV       {'raw': 126.63, 'fmt': '126.63'}  \nVOO.MX   {'raw': 6806.0, 'fmt': '6,806.00'}  \nVOOL.F       {'raw': 3.6085, 'fmt': '3.61'}  \nVOOM.DE     {'raw': 11.602, 'fmt': '11.60'}  \nVOOM.MU     {'raw': 11.584, 'fmt': '11.58'}  \nVOOM.BE     {'raw': 11.578, 'fmt': '11.58'}  \nVOOL.BE      {'raw': 3.6105, 'fmt': '3.61'}  \nVOOL.DU      {'raw': 3.5785, 'fmt': '3.58'}  \nVOOM.DU     {'raw': 11.554, 'fmt': '11.55'}  \nVOOL.MU      {'raw': 3.6715, 'fmt': '3.67'}  ",
      "text/html": "<div>\n<style scoped>\n    .dataframe tbody tr th:only-of-type {\n        vertical-align: middle;\n    }\n\n    .dataframe tbody tr th {\n        vertical-align: top;\n    }\n\n    .dataframe thead th {\n        text-align: right;\n    }\n</style>\n<table border=\"1\" class=\"dataframe\">\n  <thead>\n    <tr style=\"text-align: right;\">\n      <th></th>\n      <th>industryName</th>\n      <th>industryLink</th>\n      <th>regularMarketPercentChange</th>\n      <th>regularMarketChange</th>\n      <th>rank</th>\n      <th>exchange</th>\n      <th>shortName</th>\n      <th>quoteType</th>\n      <th>regularMarketPrice</th>\n    </tr>\n    <tr>\n      <th>symbol</th>\n      <th></th>\n      <th></th>\n      <th></th>\n      <th></th>\n      <th></th>\n      <th></th>\n      <th></th>\n      <th></th>\n      <th></th>\n    </tr>\n  </thead>\n  <tbody>\n    <tr>\n      <th>VOOL.DE</th>\n      <td>NaN</td>\n      <td>NaN</td>\n      <td>{'raw': 1.1421454, 'fmt': '1.14%'}</td>\n      <td>{'raw': 0.041499853, 'fmt': '0.04'}</td>\n      <td>20110.0</td>\n      <td>GER</td>\n      <td>MUL-LYX.S+P500VFER UE A</td>\n      <td>etf</td>\n      <td>{'raw': 3.675, 'fmt': '3.67'}</td>\n    </tr>\n    <tr>\n      <th>VOON.BE</th>\n      <td>NaN</td>\n      <td>NaN</td>\n      <td>{'raw': 1.3527263, 'fmt': '1.35%'}</td>\n      <td>{'raw': 0.18599987, 'fmt': '0.19'}</td>\n      <td>20003.0</td>\n      <td>BER</td>\n      <td>M-L.S+P 500 D.(-2X)I.UE A</td>\n      <td>etf</td>\n      <td>{'raw': 13.936, 'fmt': '13.94'}</td>\n    </tr>\n    <tr>\n      <th>VOOM.F</th>\n      <td>NaN</td>\n      <td>NaN</td>\n      <td>{'raw': 1.4091936, 'fmt': '1.41%'}</td>\n      <td>{'raw': 0.15999985, 'fmt': '0.16'}</td>\n      <td>20001.0</td>\n      <td>FRA</td>\n      <td>MUL-LX.GL.GEN.EQUALI. A</td>\n      <td>etf</td>\n      <td>{'raw': 11.514, 'fmt': '11.51'}</td>\n    </tr>\n    <tr>\n      <th>VOOL.HM</th>\n      <td>NaN</td>\n      <td>NaN</td>\n      <td>{'raw': 5.276525, 'fmt': '5.28%'}</td>\n      <td>{'raw': 0.18700004, 'fmt': '0.19'}</td>\n      <td>20001.0</td>\n      <td>HAM</td>\n      <td>MUL-LYX.S+P500VFER UE A</td>\n      <td>etf</td>\n      <td>{'raw': 3.731, 'fmt': '3.73'}</td>\n    </tr>\n    <tr>\n      <th>IVOO</th>\n      <td>NaN</td>\n      <td>NaN</td>\n      <td>{'raw': 0.86542904, 'fmt': '0.87%'}</td>\n      <td>{'raw': 1.28589, 'fmt': '1.29'}</td>\n      <td>20213.0</td>\n      <td>PCX</td>\n      <td>Vanguard S&amp;P Mid-Cap 400 ETF</td>\n      <td>etf</td>\n      <td>{'raw': 149.87, 'fmt': '149.87'}</td>\n    </tr>\n    <tr>\n      <th>VOOP.BE</th>\n      <td>NaN</td>\n      <td>NaN</td>\n      <td>{'raw': -0.47993857, 'fmt': '-0.48%'}</td>\n      <td>{'raw': -0.125, 'fmt': '-0.12'}</td>\n      <td>20001.0</td>\n      <td>BER</td>\n      <td>LYXOR CAC 40(DR)UE EOA</td>\n      <td>etf</td>\n      <td>{'raw': 25.92, 'fmt': '25.92'}</td>\n    </tr>\n    <tr>\n      <th>VOO</th>\n      <td>NaN</td>\n      <td>NaN</td>\n      <td>{'raw': 0.7244248, 'fmt': '0.72%'}</td>\n      <td>{'raw': 2.4190063, 'fmt': '2.42'}</td>\n      <td>100428.0</td>\n      <td>PCX</td>\n      <td>Vanguard S&amp;P 500 ETF</td>\n      <td>etf</td>\n      <td>{'raw': 336.34, 'fmt': '336.34'}</td>\n    </tr>\n    <tr>\n      <th>VOOG</th>\n      <td>NaN</td>\n      <td>NaN</td>\n      <td>{'raw': 0.4688324, 'fmt': '0.47%'}</td>\n      <td>{'raw': 1.003006, 'fmt': '1.00'}</td>\n      <td>21990.0</td>\n      <td>PCX</td>\n      <td>Vanguard S&amp;P 500 Growth ETF</td>\n      <td>etf</td>\n      <td>{'raw': 214.94, 'fmt': '214.94'}</td>\n    </tr>\n    <tr>\n      <th>VOOV</th>\n      <td>NaN</td>\n      <td>NaN</td>\n      <td>{'raw': 0.97280407, 'fmt': '0.97%'}</td>\n      <td>{'raw': 1.2199936, 'fmt': '1.22'}</td>\n      <td>21054.0</td>\n      <td>PCX</td>\n      <td>Vanguard S&amp;P 500 Value ETF</td>\n      <td>etf</td>\n      <td>{'raw': 126.63, 'fmt': '126.63'}</td>\n    </tr>\n    <tr>\n      <th>VOO.MX</th>\n      <td>NaN</td>\n      <td>NaN</td>\n      <td>{'raw': -0.2637749, 'fmt': '-0.26%'}</td>\n      <td>{'raw': -18.0, 'fmt': '-18.00'}</td>\n      <td>20133.0</td>\n      <td>MEX</td>\n      <td>VANGUARD INDEX FUNDS S&amp;P 500 ET</td>\n      <td>etf</td>\n      <td>{'raw': 6806.0, 'fmt': '6,806.00'}</td>\n    </tr>\n    <tr>\n      <th>VOOL.F</th>\n      <td>NaN</td>\n      <td>NaN</td>\n      <td>{'raw': -1.9029478, 'fmt': '-1.90%'}</td>\n      <td>{'raw': -0.06999993, 'fmt': '-0.07'}</td>\n      <td>20001.0</td>\n      <td>FRA</td>\n      <td>MUL-LYX.S+P500VFER UE A</td>\n      <td>etf</td>\n      <td>{'raw': 3.6085, 'fmt': '3.61'}</td>\n    </tr>\n    <tr>\n      <th>VOOM.DE</th>\n      <td>NaN</td>\n      <td>NaN</td>\n      <td>{'raw': 1.1331948, 'fmt': '1.13%'}</td>\n      <td>{'raw': 0.13000011, 'fmt': '0.13'}</td>\n      <td>20001.0</td>\n      <td>GER</td>\n      <td>MUL-LX.GL.GEN.EQUALI. A</td>\n      <td>etf</td>\n      <td>{'raw': 11.602, 'fmt': '11.60'}</td>\n    </tr>\n    <tr>\n      <th>VOOM.MU</th>\n      <td>NaN</td>\n      <td>NaN</td>\n      <td>{'raw': 0.0, 'fmt': '0.00%'}</td>\n      <td>{'raw': 0.0, 'fmt': '0.00'}</td>\n      <td>20001.0</td>\n      <td>MUN</td>\n      <td>MUL-LX.GL.GEN.EQUALI. A</td>\n      <td>etf</td>\n      <td>{'raw': 11.584, 'fmt': '11.58'}</td>\n    </tr>\n    <tr>\n      <th>VOOM.BE</th>\n      <td>NaN</td>\n      <td>NaN</td>\n      <td>{'raw': 1.0649419, 'fmt': '1.06%'}</td>\n      <td>{'raw': 0.12199974, 'fmt': '0.12'}</td>\n      <td>20001.0</td>\n      <td>BER</td>\n      <td>MUL-LX.GL.GEN.EQUALI. A</td>\n      <td>etf</td>\n      <td>{'raw': 11.578, 'fmt': '11.58'}</td>\n    </tr>\n    <tr>\n      <th>VOOL.BE</th>\n      <td>NaN</td>\n      <td>NaN</td>\n      <td>{'raw': -1.2310174, 'fmt': '-1.23%'}</td>\n      <td>{'raw': -0.044999838, 'fmt': '-0.04'}</td>\n      <td>20001.0</td>\n      <td>BER</td>\n      <td>MUL-LYX.S+P500VFER UE A</td>\n      <td>etf</td>\n      <td>{'raw': 3.6105, 'fmt': '3.61'}</td>\n    </tr>\n    <tr>\n      <th>VOOL.DU</th>\n      <td>NaN</td>\n      <td>NaN</td>\n      <td>{'raw': 0.21002333, 'fmt': '0.21%'}</td>\n      <td>{'raw': 0.0074999332, 'fmt': '0.01'}</td>\n      <td>20001.0</td>\n      <td>DUS</td>\n      <td>MUL-LYX.S+P500VFER UE A</td>\n      <td>etf</td>\n      <td>{'raw': 3.5785, 'fmt': '3.58'}</td>\n    </tr>\n    <tr>\n      <th>VOOM.DU</th>\n      <td>NaN</td>\n      <td>NaN</td>\n      <td>{'raw': 1.2620513, 'fmt': '1.26%'}</td>\n      <td>{'raw': 0.14400005, 'fmt': '0.14'}</td>\n      <td>20001.0</td>\n      <td>DUS</td>\n      <td>MUL-LX.GL.GEN.EQUALI. A</td>\n      <td>etf</td>\n      <td>{'raw': 11.554, 'fmt': '11.55'}</td>\n    </tr>\n    <tr>\n      <th>VOOL.MU</th>\n      <td>NaN</td>\n      <td>NaN</td>\n      <td>{'raw': 1.8587852, 'fmt': '1.86%'}</td>\n      <td>{'raw': 0.06699991, 'fmt': '0.07'}</td>\n      <td>20001.0</td>\n      <td>MUN</td>\n      <td>MUL-LYX.S+P500VFER UE A</td>\n      <td>etf</td>\n      <td>{'raw': 3.6715, 'fmt': '3.67'}</td>\n    </tr>\n  </tbody>\n</table>\n</div>"
     },
     "execution_count": 95,
     "metadata": {},
     "output_type": "execute_result"
    }
   ],
   "source": [
    "clean = symbols[symbols.shortName.notna()]\n",
    "clean[clean.index.str.contains('VOO')]"
   ],
   "metadata": {
    "collapsed": false,
    "pycharm": {
     "name": "#%%\n"
    }
   }
  },
  {
   "cell_type": "code",
   "execution_count": 96,
   "outputs": [],
   "source": [
    "stored_symbols = clean[['industryName', 'rank', 'exchange', 'shortName', 'quoteType']]\n",
    "import sqlite3 as sl\n",
    "conn = sl.connect('../sqlite/lookup/symbols.db')\n",
    "stored_symbols.to_sql('symbols', conn, if_exists='replace')\n",
    "conn.commit()"
   ],
   "metadata": {
    "collapsed": false,
    "pycharm": {
     "name": "#%%\n"
    }
   }
  },
  {
   "cell_type": "code",
   "execution_count": 97,
   "outputs": [
    {
     "data": {
      "text/plain": "[(82205,)]"
     },
     "execution_count": 97,
     "metadata": {},
     "output_type": "execute_result"
    }
   ],
   "source": [
    "conn.execute('SELECT COUNT(*) FROM symbols').fetchall()"
   ],
   "metadata": {
    "collapsed": false,
    "pycharm": {
     "name": "#%%\n"
    }
   }
  },
  {
   "cell_type": "code",
   "execution_count": 14,
   "outputs": [],
   "source": [
    "all_symbols = all_symbols.drop_duplicates(subset=['symbol'])"
   ],
   "metadata": {
    "collapsed": false,
    "pycharm": {
     "name": "#%%\n"
    }
   }
  },
  {
   "cell_type": "code",
   "execution_count": 15,
   "outputs": [
    {
     "data": {
      "text/plain": "<bound method DataFrame.info of               industryName                                       industryLink  \\\n0               Technology        https://finance.yahoo.com/sector/technology   \n1        Consumer Cyclical  https://finance.yahoo.com/sector/consumer_cycl...   \n2               Technology        https://finance.yahoo.com/sector/technology   \n3   Communication Services  https://finance.yahoo.com/sector/communication...   \n4        Consumer Cyclical  https://finance.yahoo.com/sector/consumer_cycl...   \n..                     ...                                                ...   \n45                     NaN                                                NaN   \n46       Consumer Cyclical  https://finance.yahoo.com/sector/consumer_cycl...   \n47       Consumer Cyclical  https://finance.yahoo.com/sector/consumer_cycl...   \n48       Consumer Cyclical  https://finance.yahoo.com/sector/consumer_cycl...   \n49             Industrials       https://finance.yahoo.com/sector/industrials   \n\n             symbol            regularMarketPercentChange  \\\n0              AAPL   {'raw': 0.33903462, 'fmt': '0.34%'}   \n1              AMZN    {'raw': 1.3403072, 'fmt': '1.34%'}   \n2               AMD  {'raw': -2.1777453, 'fmt': '-2.18%'}   \n3              GOOG  {'raw': 0.040335704, 'fmt': '0.04%'}   \n4                 F  {'raw': -2.3558078, 'fmt': '-2.36%'}   \n..              ...                                   ...   \n45  SE0010948588.SG    {'raw': 2.5341074, 'fmt': '2.53%'}   \n46            B4F.F  {'raw': -5.5819507, 'fmt': '-5.58%'}   \n47    BALKRISHNA.NS    {'raw': -2.95858, 'fmt': '-2.96%'}   \n48           BSP.OL          {'raw': 0.0, 'fmt': '0.00%'}   \n49     BIRLAPREC.BO     {'raw': 4.260093, 'fmt': '4.26%'}   \n\n                     regularMarketChange    rank exchange  \\\n0     {'raw': 0.51000977, 'fmt': '0.51'}  172245      NMS   \n1      {'raw': 1.5250015, 'fmt': '1.53'}  122155      NMS   \n2    {'raw': -1.4799957, 'fmt': '-1.48'}   97827      NMS   \n3    {'raw': 0.040000916, 'fmt': '0.04'}   82985      NMS   \n4   {'raw': -0.28999996, 'fmt': '-0.29'}   81368      NYQ   \n..                                   ...     ...      ...   \n45   {'raw': 0.038999915, 'fmt': '0.04'}   20003      STU   \n46   {'raw': -1.8800011, 'fmt': '-1.88'}   20003      FRA   \n47         {'raw': -1.0, 'fmt': '-1.00'}   20003      NSI   \n48           {'raw': 0.0, 'fmt': '0.00'}   20003      OSL   \n49     {'raw': 1.9000015, 'fmt': '1.90'}   20003      BSE   \n\n                         shortName quoteType  \\\n0                       Apple Inc.    equity   \n1                 Amazon.com, Inc.    equity   \n2     Advanced Micro Devices, Inc.    equity   \n3                    Alphabet Inc.    equity   \n4               Ford Motor Company    equity   \n..                             ...       ...   \n45                    BHG Group AB    equity   \n46          BASIC-FIT N.V. EO -,06    equity   \n47              BALKRISHNA PAPER M    equity   \n48              BLACK SEA PROPERTY    equity   \n49  BIRLA PRECISION TECHNOLOGIES L    equity   \n\n                   regularMarketPrice  \n0    {'raw': 150.94, 'fmt': '150.94'}  \n1   {'raw': 115.305, 'fmt': '115.31'}  \n2      {'raw': 66.48, 'fmt': '66.48'}  \n3      {'raw': 99.21, 'fmt': '99.21'}  \n4      {'raw': 12.02, 'fmt': '12.02'}  \n..                                ...  \n45      {'raw': 1.578, 'fmt': '1.58'}  \n46      {'raw': 31.8, 'fmt': '31.80'}  \n47      {'raw': 32.8, 'fmt': '32.80'}  \n48       {'raw': 0.99, 'fmt': '0.99'}  \n49      {'raw': 46.5, 'fmt': '46.50'}  \n\n[4313 rows x 10 columns]>"
     },
     "execution_count": 15,
     "metadata": {},
     "output_type": "execute_result"
    }
   ],
   "source": [
    "all_symbols.info"
   ],
   "metadata": {
    "collapsed": false,
    "pycharm": {
     "name": "#%%\n"
    }
   }
  },
  {
   "cell_type": "code",
   "execution_count": null,
   "outputs": [],
   "source": [
    "df2.to_json('symbols_300_350.json', index=False, orient='table')"
   ],
   "metadata": {
    "collapsed": false,
    "pycharm": {
     "name": "#%%\n"
    }
   }
  },
  {
   "cell_type": "code",
   "execution_count": null,
   "outputs": [],
   "source": [
    "import sqlite3 as sl\n",
    "conn = sl.connect('../sqlite/lookup/symbols.db')\n",
    "symbols.to_sql('Symbols', conn)"
   ],
   "metadata": {
    "collapsed": false,
    "pycharm": {
     "name": "#%%\n"
    }
   }
  },
  {
   "cell_type": "code",
   "execution_count": null,
   "outputs": [],
   "source": [
    "df2.to_sql('symbols', con, index='symbol')"
   ],
   "metadata": {
    "collapsed": false,
    "pycharm": {
     "name": "#%%\n"
    }
   }
  },
  {
   "cell_type": "code",
   "execution_count": null,
   "outputs": [],
   "source": [
    "df2"
   ],
   "metadata": {
    "collapsed": false,
    "pycharm": {
     "name": "#%%\n"
    }
   }
  },
  {
   "cell_type": "code",
   "execution_count": null,
   "outputs": [],
   "source": [
    "df2.to_sql('symbols', con)"
   ],
   "metadata": {
    "collapsed": false,
    "pycharm": {
     "name": "#%%\n"
    }
   }
  },
  {
   "cell_type": "code",
   "execution_count": null,
   "outputs": [],
   "source": [
    "con.execute(\"SELECT * FROM symbols WHERE symbol LIKE 'AEMD'\")"
   ],
   "metadata": {
    "collapsed": false,
    "pycharm": {
     "name": "#%%\n"
    }
   }
  },
  {
   "cell_type": "code",
   "execution_count": null,
   "outputs": [],
   "source": [
    "df3 = pd.read_sql('SELECT * from symbols')"
   ],
   "metadata": {
    "collapsed": false,
    "pycharm": {
     "name": "#%%\n"
    }
   }
  },
  {
   "cell_type": "code",
   "execution_count": null,
   "outputs": [],
   "source": [
    "df3 = pd.read_sql('SELECT * from symbols', con)"
   ],
   "metadata": {
    "collapsed": false,
    "pycharm": {
     "name": "#%%\n"
    }
   }
  },
  {
   "cell_type": "code",
   "execution_count": null,
   "outputs": [],
   "source": [
    "con.commit()"
   ],
   "metadata": {
    "collapsed": false,
    "pycharm": {
     "name": "#%%\n"
    }
   }
  },
  {
   "cell_type": "code",
   "execution_count": null,
   "outputs": [],
   "source": [
    "con.execute('SELECT * FROM symbols where symbol LIKE ?', '%A%')"
   ],
   "metadata": {
    "collapsed": false,
    "pycharm": {
     "name": "#%%\n"
    }
   }
  },
  {
   "cell_type": "code",
   "execution_count": null,
   "outputs": [],
   "source": [
    "con.execute('SELECT * FROM symbols where symbol LIKE \"%A%\"')"
   ],
   "metadata": {
    "collapsed": false,
    "pycharm": {
     "name": "#%%\n"
    }
   }
  },
  {
   "cell_type": "code",
   "execution_count": null,
   "outputs": [],
   "source": [],
   "metadata": {
    "collapsed": false,
    "pycharm": {
     "name": "#%%\n"
    }
   }
  }
 ],
 "metadata": {
  "kernelspec": {
   "display_name": "Python 3",
   "language": "python",
   "name": "python3"
  },
  "language_info": {
   "codemirror_mode": {
    "name": "ipython",
    "version": 2
   },
   "file_extension": ".py",
   "mimetype": "text/x-python",
   "name": "python",
   "nbconvert_exporter": "python",
   "pygments_lexer": "ipython2",
   "version": "2.7.6"
  }
 },
 "nbformat": 4,
 "nbformat_minor": 0
}