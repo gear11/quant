{
 "cells": [
  {
   "cell_type": "code",
   "execution_count": 61,
   "metadata": {
    "collapsed": true,
    "pycharm": {
     "name": "#%%\n"
    }
   },
   "outputs": [
    {
     "name": "stdout",
     "output_type": "stream",
     "text": [
      "Loaded \"b\", (4263, 10), deduped to (8540, 10) (diff: 4277)\n",
      "Loaded \"c\", (8540, 10), deduped to (12180, 10) (diff: 3640)\n",
      "Loaded \"d\", (12180, 10), deduped to (15661, 10) (diff: 3481)\n",
      "Loaded \"e\", (15661, 10), deduped to (18784, 10) (diff: 3123)\n",
      "Loaded \"f\", (18784, 10), deduped to (21666, 10) (diff: 2882)\n",
      "Loaded \"g\", (21666, 10), deduped to (24291, 10) (diff: 2625)\n",
      "Loaded \"h\", (24291, 10), deduped to (26721, 10) (diff: 2430)\n",
      "Loaded \"i\", (26721, 10), deduped to (28201, 10) (diff: 1480)\n",
      "UH OH, only got 36 records in ../yahoo/lookup/j/yahoo_symbols_2600_2650.json\n",
      "Loaded \"j\", (28201, 10), deduped to (29983, 10) (diff: 1782)\n",
      "UH OH, only got 23 records in ../yahoo/lookup/k/yahoo_symbols_4600_4650.json\n",
      "Loaded \"k\", (29983, 10), deduped to (33047, 10) (diff: 3064)\n",
      "Loaded \"l\", (33047, 10), deduped to (34558, 10) (diff: 1511)\n",
      "Loaded \"m\", (34558, 10), deduped to (36109, 10) (diff: 1551)\n",
      "Loaded \"n\", (36109, 10), deduped to (38215, 10) (diff: 2106)\n",
      "Loaded \"o\", (38215, 10), deduped to (39788, 10) (diff: 1573)\n",
      "Loaded \"p\", (39788, 10), deduped to (40650, 10) (diff: 862)\n",
      "UH OH, only got 32 records in ../yahoo/lookup/q/yahoo_symbols_850_900.json\n",
      "Loaded \"q\", (40650, 10), deduped to (41161, 10) (diff: 511)\n",
      "Loaded \"r\", (41161, 10), deduped to (42751, 10) (diff: 1590)\n",
      "Loaded \"s\", (42751, 10), deduped to (43332, 10) (diff: 581)\n",
      "Loaded \"t\", (43332, 10), deduped to (44052, 10) (diff: 720)\n",
      "UH OH, only got 21 records in ../yahoo/lookup/u/yahoo_symbols_3550_3600.json\n",
      "Loaded \"u\", (44052, 10), deduped to (45839, 10) (diff: 1787)\n",
      "UH OH, only got 0 records in ../yahoo/lookup/v/yahoo_symbols_950_1000.json\n",
      "Loaded \"v\", (45839, 10), deduped to (45941, 10) (diff: 102)\n",
      "UH OH, only got 35 records in ../yahoo/lookup/w/yahoo_symbols_4300_4350.json\n",
      "Loaded \"w\", (45941, 10), deduped to (48177, 10) (diff: 2236)\n",
      "UH OH, only got 21 records in ../yahoo/lookup/x/yahoo_symbols_950_1000.json\n",
      "Loaded \"x\", (48177, 10), deduped to (48757, 10) (diff: 580)\n",
      "UH OH, only got 28 records in ../yahoo/lookup/y/yahoo_symbols_1950_2000.json\n",
      "Loaded \"y\", (48757, 10), deduped to (49876, 10) (diff: 1119)\n",
      "UH OH, only got 40 records in ../yahoo/lookup/z/yahoo_symbols_1800_1850.json\n",
      "Loaded \"z\", (49876, 10), deduped to (50839, 10) (diff: 963)\n"
     ]
    },
    {
     "data": {
      "text/plain": "<bound method DataFrame.info of                    industryName  \\\nsymbol                            \nAAPL                 Technology   \nAMZN          Consumer Cyclical   \nAMD                  Technology   \nGOOG     Communication Services   \nF             Consumer Cyclical   \n...                         ...   \nIZ.V            Basic Materials   \nIR75.VI                     NaN   \n22Z.BE               Healthcare   \nZCT1.BE      Financial Services   \nZAL1.DU       Consumer Cyclical   \n\n                                              industryLink  \\\nsymbol                                                       \nAAPL           https://finance.yahoo.com/sector/technology   \nAMZN     https://finance.yahoo.com/sector/consumer_cycl...   \nAMD            https://finance.yahoo.com/sector/technology   \nGOOG     https://finance.yahoo.com/sector/communication...   \nF        https://finance.yahoo.com/sector/consumer_cycl...   \n...                                                    ...   \nIZ.V      https://finance.yahoo.com/sector/basic_materials   \nIR75.VI                                                NaN   \n22Z.BE         https://finance.yahoo.com/sector/healthcare   \nZCT1.BE  https://finance.yahoo.com/sector/financial_ser...   \nZAL1.DU  https://finance.yahoo.com/sector/consumer_cycl...   \n\n                    regularMarketPercentChange  \\\nsymbol                                           \nAAPL       {'raw': 0.33903462, 'fmt': '0.34%'}   \nAMZN        {'raw': 1.3403072, 'fmt': '1.34%'}   \nAMD       {'raw': -2.1777453, 'fmt': '-2.18%'}   \nGOOG      {'raw': 0.040335704, 'fmt': '0.04%'}   \nF         {'raw': -2.3558078, 'fmt': '-2.36%'}   \n...                                        ...   \nIZ.V     {'raw': -15.624994, 'fmt': '-15.62%'}   \nIR75.VI  {'raw': -0.60679847, 'fmt': '-0.61%'}   \n22Z.BE   {'raw': -0.11553178, 'fmt': '-0.12%'}   \nZCT1.BE     {'raw': -3.33334, 'fmt': '-3.33%'}   \nZAL1.DU     {'raw': 3.6458273, 'fmt': '3.65%'}   \n\n                           regularMarketChange      rank exchange  \\\nsymbol                                                              \nAAPL        {'raw': 0.51000977, 'fmt': '0.51'}  172245.0      NMS   \nAMZN         {'raw': 1.5250015, 'fmt': '1.53'}  122155.0      NMS   \nAMD        {'raw': -1.4799957, 'fmt': '-1.48'}   97827.0      NMS   \nGOOG       {'raw': 0.040000916, 'fmt': '0.04'}   82985.0      NMS   \nF         {'raw': -0.28999996, 'fmt': '-0.29'}   81368.0      NYQ   \n...                                        ...       ...      ...   \nIZ.V     {'raw': -0.024999991, 'fmt': '-0.02'}   20001.0      VAN   \nIR75.VI   {'raw': -0.05000019, 'fmt': '-0.05'}   20001.0      VIE   \n22Z.BE    {'raw': -0.01999855, 'fmt': '-0.02'}   20001.0      BER   \nZCT1.BE  {'raw': -0.002500005, 'fmt': '-0.00'}   20001.0      BER   \nZAL1.DU     {'raw': 0.34999943, 'fmt': '0.35'}   20001.0      DUS   \n\n                            shortName quoteType  \\\nsymbol                                            \nAAPL                       Apple Inc.    equity   \nAMZN                 Amazon.com, Inc.    equity   \nAMD      Advanced Micro Devices, Inc.    equity   \nGOOG                    Alphabet Inc.    equity   \nF                  Ford Motor Company    equity   \n...                               ...       ...   \nIZ.V       INTERNATIONAL ZEOLITE CORP    equity   \nIR75.VI    EB OE TL.Z./CARL ZEISS MED    equity   \n22Z.BE       ZEALAND PHARMA A/S  DK 1    equity   \nZCT1.BE           ZIMTU CAPITAL CORP.    equity   \nZAL1.DU        ZALANDO SE UNSP.ADR /2    equity   \n\n                        regularMarketPrice  \nsymbol                                      \nAAPL      {'raw': 150.94, 'fmt': '150.94'}  \nAMZN     {'raw': 115.305, 'fmt': '115.31'}  \nAMD         {'raw': 66.48, 'fmt': '66.48'}  \nGOOG        {'raw': 99.21, 'fmt': '99.21'}  \nF           {'raw': 12.02, 'fmt': '12.02'}  \n...                                    ...  \nIZ.V         {'raw': 0.135, 'fmt': '0.14'}  \nIR75.VI       {'raw': 8.19, 'fmt': '8.19'}  \n22Z.BE      {'raw': 17.29, 'fmt': '17.29'}  \nZCT1.BE     {'raw': 0.0725, 'fmt': '0.07'}  \nZAL1.DU       {'raw': 9.95, 'fmt': '9.95'}  \n\n[50839 rows x 9 columns]>"
     },
     "execution_count": 61,
     "metadata": {},
     "output_type": "execute_result"
    }
   ],
   "source": [
    "import json\n",
    "import pandas as pd\n",
    "\n",
    "symbols = None\n",
    "for ch in range(ord('a'), ord('z') + 1):\n",
    "    letter = chr(ch)\n",
    "    before = symbols.shape if symbols is not None else None\n",
    "    first, last, count = 0, 5000, 50\n",
    "    for start in range(first, last, count):\n",
    "        path = f'../yahoo/lookup/{letter}/yahoo_symbols_{start}_{start+count}.json'\n",
    "        with open(path) as f:\n",
    "            js = json.load(f)\n",
    "            docs = js['finance']['result'][0]['documents']\n",
    "            if len(docs) != 50:\n",
    "                print(f'UH OH, only got {len(docs)} records in {path}')\n",
    "                break\n",
    "            df = pd.DataFrame.from_records(docs)\n",
    "            symbols = df if symbols is None else pd.concat([symbols, df])\n",
    "            symbols = symbols.drop_duplicates(subset=['symbol'])\n",
    "    after = symbols.shape\n",
    "    if before is not None:\n",
    "        print(f'Loaded \"{letter}\", {before}, deduped to {after} (diff: {after[0] - before[0]})')\n",
    "symbols = symbols.set_index('symbol')\n",
    "symbols.info"
   ]
  },
  {
   "cell_type": "code",
   "execution_count": 57,
   "outputs": [
    {
     "data": {
      "text/plain": "33047"
     },
     "execution_count": 57,
     "metadata": {},
     "output_type": "execute_result"
    }
   ],
   "source": [
    "\n",
    "symbols.index.nunique()"
   ],
   "metadata": {
    "collapsed": false,
    "pycharm": {
     "name": "#%%\n"
    }
   }
  },
  {
   "cell_type": "code",
   "execution_count": 62,
   "outputs": [
    {
     "data": {
      "text/plain": "          industryName                                 industryLink  \\\nsymbol                                                                \nAAPL        Technology  https://finance.yahoo.com/sector/technology   \nAAPL.NE     Technology  https://finance.yahoo.com/sector/technology   \nAAPL.MX     Technology  https://finance.yahoo.com/sector/technology   \nAAPL.BA     Technology  https://finance.yahoo.com/sector/technology   \nAAPL34.SA   Technology  https://finance.yahoo.com/sector/technology   \n\n                     regularMarketPercentChange  \\\nsymbol                                            \nAAPL        {'raw': 0.33903462, 'fmt': '0.34%'}   \nAAPL.NE    {'raw': -1.3425702, 'fmt': '-1.34%'}   \nAAPL.MX    {'raw': -1.2006527, 'fmt': '-1.20%'}   \nAAPL.BA    {'raw': -2.5283527, 'fmt': '-2.53%'}   \nAAPL34.SA   {'raw': 0.60064054, 'fmt': '0.60%'}   \n\n                            regularMarketChange      rank exchange  \\\nsymbol                                                               \nAAPL         {'raw': 0.51000977, 'fmt': '0.51'}  172245.0      NMS   \nAAPL.NE    {'raw': -0.30999947, 'fmt': '-0.31'}   20065.0      NEO   \nAAPL.MX     {'raw': -36.79004, 'fmt': '-36.79'}   20046.0      MEX   \nAAPL.BA       {'raw': -121.5, 'fmt': '-121.50'}   20026.0      BUE   \nAAPL34.SA    {'raw': 0.47000122, 'fmt': '0.47'}   20013.0      SAO   \n\n                        shortName quoteType  \\\nsymbol                                        \nAAPL                   Apple Inc.    equity   \nAAPL.NE    APPLE CDR (CAD HEDGED)    equity   \nAAPL.MX                 APPLE INC    equity   \nAAPL.BA                 APPLE INC    equity   \nAAPL34.SA         APPLE       DRN    equity   \n\n                            regularMarketPrice  \nsymbol                                          \nAAPL          {'raw': 150.94, 'fmt': '150.94'}  \nAAPL.NE         {'raw': 22.78, 'fmt': '22.78'}  \nAAPL.MX    {'raw': 3027.38, 'fmt': '3,027.38'}  \nAAPL.BA     {'raw': 4684.0, 'fmt': '4,684.00'}  \nAAPL34.SA       {'raw': 78.72, 'fmt': '78.72'}  ",
      "text/html": "<div>\n<style scoped>\n    .dataframe tbody tr th:only-of-type {\n        vertical-align: middle;\n    }\n\n    .dataframe tbody tr th {\n        vertical-align: top;\n    }\n\n    .dataframe thead th {\n        text-align: right;\n    }\n</style>\n<table border=\"1\" class=\"dataframe\">\n  <thead>\n    <tr style=\"text-align: right;\">\n      <th></th>\n      <th>industryName</th>\n      <th>industryLink</th>\n      <th>regularMarketPercentChange</th>\n      <th>regularMarketChange</th>\n      <th>rank</th>\n      <th>exchange</th>\n      <th>shortName</th>\n      <th>quoteType</th>\n      <th>regularMarketPrice</th>\n    </tr>\n    <tr>\n      <th>symbol</th>\n      <th></th>\n      <th></th>\n      <th></th>\n      <th></th>\n      <th></th>\n      <th></th>\n      <th></th>\n      <th></th>\n      <th></th>\n    </tr>\n  </thead>\n  <tbody>\n    <tr>\n      <th>AAPL</th>\n      <td>Technology</td>\n      <td>https://finance.yahoo.com/sector/technology</td>\n      <td>{'raw': 0.33903462, 'fmt': '0.34%'}</td>\n      <td>{'raw': 0.51000977, 'fmt': '0.51'}</td>\n      <td>172245.0</td>\n      <td>NMS</td>\n      <td>Apple Inc.</td>\n      <td>equity</td>\n      <td>{'raw': 150.94, 'fmt': '150.94'}</td>\n    </tr>\n    <tr>\n      <th>AAPL.NE</th>\n      <td>Technology</td>\n      <td>https://finance.yahoo.com/sector/technology</td>\n      <td>{'raw': -1.3425702, 'fmt': '-1.34%'}</td>\n      <td>{'raw': -0.30999947, 'fmt': '-0.31'}</td>\n      <td>20065.0</td>\n      <td>NEO</td>\n      <td>APPLE CDR (CAD HEDGED)</td>\n      <td>equity</td>\n      <td>{'raw': 22.78, 'fmt': '22.78'}</td>\n    </tr>\n    <tr>\n      <th>AAPL.MX</th>\n      <td>Technology</td>\n      <td>https://finance.yahoo.com/sector/technology</td>\n      <td>{'raw': -1.2006527, 'fmt': '-1.20%'}</td>\n      <td>{'raw': -36.79004, 'fmt': '-36.79'}</td>\n      <td>20046.0</td>\n      <td>MEX</td>\n      <td>APPLE INC</td>\n      <td>equity</td>\n      <td>{'raw': 3027.38, 'fmt': '3,027.38'}</td>\n    </tr>\n    <tr>\n      <th>AAPL.BA</th>\n      <td>Technology</td>\n      <td>https://finance.yahoo.com/sector/technology</td>\n      <td>{'raw': -2.5283527, 'fmt': '-2.53%'}</td>\n      <td>{'raw': -121.5, 'fmt': '-121.50'}</td>\n      <td>20026.0</td>\n      <td>BUE</td>\n      <td>APPLE INC</td>\n      <td>equity</td>\n      <td>{'raw': 4684.0, 'fmt': '4,684.00'}</td>\n    </tr>\n    <tr>\n      <th>AAPL34.SA</th>\n      <td>Technology</td>\n      <td>https://finance.yahoo.com/sector/technology</td>\n      <td>{'raw': 0.60064054, 'fmt': '0.60%'}</td>\n      <td>{'raw': 0.47000122, 'fmt': '0.47'}</td>\n      <td>20013.0</td>\n      <td>SAO</td>\n      <td>APPLE       DRN</td>\n      <td>equity</td>\n      <td>{'raw': 78.72, 'fmt': '78.72'}</td>\n    </tr>\n  </tbody>\n</table>\n</div>"
     },
     "execution_count": 62,
     "metadata": {},
     "output_type": "execute_result"
    }
   ],
   "source": [
    "symbols[symbols.index.str.contains('AAPL')]"
   ],
   "metadata": {
    "collapsed": false,
    "pycharm": {
     "name": "#%%\n"
    }
   }
  },
  {
   "cell_type": "code",
   "execution_count": 63,
   "outputs": [],
   "source": [
    "stored_symbols = symbols[['industryName', 'rank', 'exchange', 'shortName', 'quoteType']]\n",
    "import sqlite3 as sl\n",
    "conn = sl.connect('../sqlite/lookup/symbols.db')\n",
    "stored_symbols.to_sql('symbols', conn, if_exists='replace')\n",
    "conn.commit()"
   ],
   "metadata": {
    "collapsed": false,
    "pycharm": {
     "name": "#%%\n"
    }
   }
  },
  {
   "cell_type": "code",
   "execution_count": 13,
   "outputs": [
    {
     "data": {
      "text/plain": "<bound method DataFrame.info of               industryName                                       industryLink  \\\n0               Technology        https://finance.yahoo.com/sector/technology   \n1        Consumer Cyclical  https://finance.yahoo.com/sector/consumer_cycl...   \n2               Technology        https://finance.yahoo.com/sector/technology   \n3   Communication Services  https://finance.yahoo.com/sector/communication...   \n4        Consumer Cyclical  https://finance.yahoo.com/sector/consumer_cycl...   \n..                     ...                                                ...   \n45                     NaN                                                NaN   \n46       Consumer Cyclical  https://finance.yahoo.com/sector/consumer_cycl...   \n47       Consumer Cyclical  https://finance.yahoo.com/sector/consumer_cycl...   \n48       Consumer Cyclical  https://finance.yahoo.com/sector/consumer_cycl...   \n49             Industrials       https://finance.yahoo.com/sector/industrials   \n\n             symbol            regularMarketPercentChange  \\\n0              AAPL   {'raw': 0.33903462, 'fmt': '0.34%'}   \n1              AMZN    {'raw': 1.3403072, 'fmt': '1.34%'}   \n2               AMD  {'raw': -2.1777453, 'fmt': '-2.18%'}   \n3              GOOG  {'raw': 0.040335704, 'fmt': '0.04%'}   \n4                 F  {'raw': -2.3558078, 'fmt': '-2.36%'}   \n..              ...                                   ...   \n45  SE0010948588.SG    {'raw': 2.5341074, 'fmt': '2.53%'}   \n46            B4F.F  {'raw': -5.5819507, 'fmt': '-5.58%'}   \n47    BALKRISHNA.NS    {'raw': -2.95858, 'fmt': '-2.96%'}   \n48           BSP.OL          {'raw': 0.0, 'fmt': '0.00%'}   \n49     BIRLAPREC.BO     {'raw': 4.260093, 'fmt': '4.26%'}   \n\n                     regularMarketChange    rank exchange  \\\n0     {'raw': 0.51000977, 'fmt': '0.51'}  172245      NMS   \n1      {'raw': 1.5250015, 'fmt': '1.53'}  122155      NMS   \n2    {'raw': -1.4799957, 'fmt': '-1.48'}   97827      NMS   \n3    {'raw': 0.040000916, 'fmt': '0.04'}   82985      NMS   \n4   {'raw': -0.28999996, 'fmt': '-0.29'}   81368      NYQ   \n..                                   ...     ...      ...   \n45   {'raw': 0.038999915, 'fmt': '0.04'}   20003      STU   \n46   {'raw': -1.8800011, 'fmt': '-1.88'}   20003      FRA   \n47         {'raw': -1.0, 'fmt': '-1.00'}   20003      NSI   \n48           {'raw': 0.0, 'fmt': '0.00'}   20003      OSL   \n49     {'raw': 1.9000015, 'fmt': '1.90'}   20003      BSE   \n\n                         shortName quoteType  \\\n0                       Apple Inc.    equity   \n1                 Amazon.com, Inc.    equity   \n2     Advanced Micro Devices, Inc.    equity   \n3                    Alphabet Inc.    equity   \n4               Ford Motor Company    equity   \n..                             ...       ...   \n45                    BHG Group AB    equity   \n46          BASIC-FIT N.V. EO -,06    equity   \n47              BALKRISHNA PAPER M    equity   \n48              BLACK SEA PROPERTY    equity   \n49  BIRLA PRECISION TECHNOLOGIES L    equity   \n\n                   regularMarketPrice  \n0    {'raw': 150.94, 'fmt': '150.94'}  \n1   {'raw': 115.305, 'fmt': '115.31'}  \n2      {'raw': 66.48, 'fmt': '66.48'}  \n3      {'raw': 99.21, 'fmt': '99.21'}  \n4      {'raw': 12.02, 'fmt': '12.02'}  \n..                                ...  \n45      {'raw': 1.578, 'fmt': '1.58'}  \n46      {'raw': 31.8, 'fmt': '31.80'}  \n47      {'raw': 32.8, 'fmt': '32.80'}  \n48       {'raw': 0.99, 'fmt': '0.99'}  \n49      {'raw': 46.5, 'fmt': '46.50'}  \n\n[10050 rows x 10 columns]>"
     },
     "execution_count": 13,
     "metadata": {},
     "output_type": "execute_result"
    }
   ],
   "source": [
    "all_symbols.info"
   ],
   "metadata": {
    "collapsed": false,
    "pycharm": {
     "name": "#%%\n"
    }
   }
  },
  {
   "cell_type": "code",
   "execution_count": 14,
   "outputs": [],
   "source": [
    "all_symbols = all_symbols.drop_duplicates(subset=['symbol'])"
   ],
   "metadata": {
    "collapsed": false,
    "pycharm": {
     "name": "#%%\n"
    }
   }
  },
  {
   "cell_type": "code",
   "execution_count": 15,
   "outputs": [
    {
     "data": {
      "text/plain": "<bound method DataFrame.info of               industryName                                       industryLink  \\\n0               Technology        https://finance.yahoo.com/sector/technology   \n1        Consumer Cyclical  https://finance.yahoo.com/sector/consumer_cycl...   \n2               Technology        https://finance.yahoo.com/sector/technology   \n3   Communication Services  https://finance.yahoo.com/sector/communication...   \n4        Consumer Cyclical  https://finance.yahoo.com/sector/consumer_cycl...   \n..                     ...                                                ...   \n45                     NaN                                                NaN   \n46       Consumer Cyclical  https://finance.yahoo.com/sector/consumer_cycl...   \n47       Consumer Cyclical  https://finance.yahoo.com/sector/consumer_cycl...   \n48       Consumer Cyclical  https://finance.yahoo.com/sector/consumer_cycl...   \n49             Industrials       https://finance.yahoo.com/sector/industrials   \n\n             symbol            regularMarketPercentChange  \\\n0              AAPL   {'raw': 0.33903462, 'fmt': '0.34%'}   \n1              AMZN    {'raw': 1.3403072, 'fmt': '1.34%'}   \n2               AMD  {'raw': -2.1777453, 'fmt': '-2.18%'}   \n3              GOOG  {'raw': 0.040335704, 'fmt': '0.04%'}   \n4                 F  {'raw': -2.3558078, 'fmt': '-2.36%'}   \n..              ...                                   ...   \n45  SE0010948588.SG    {'raw': 2.5341074, 'fmt': '2.53%'}   \n46            B4F.F  {'raw': -5.5819507, 'fmt': '-5.58%'}   \n47    BALKRISHNA.NS    {'raw': -2.95858, 'fmt': '-2.96%'}   \n48           BSP.OL          {'raw': 0.0, 'fmt': '0.00%'}   \n49     BIRLAPREC.BO     {'raw': 4.260093, 'fmt': '4.26%'}   \n\n                     regularMarketChange    rank exchange  \\\n0     {'raw': 0.51000977, 'fmt': '0.51'}  172245      NMS   \n1      {'raw': 1.5250015, 'fmt': '1.53'}  122155      NMS   \n2    {'raw': -1.4799957, 'fmt': '-1.48'}   97827      NMS   \n3    {'raw': 0.040000916, 'fmt': '0.04'}   82985      NMS   \n4   {'raw': -0.28999996, 'fmt': '-0.29'}   81368      NYQ   \n..                                   ...     ...      ...   \n45   {'raw': 0.038999915, 'fmt': '0.04'}   20003      STU   \n46   {'raw': -1.8800011, 'fmt': '-1.88'}   20003      FRA   \n47         {'raw': -1.0, 'fmt': '-1.00'}   20003      NSI   \n48           {'raw': 0.0, 'fmt': '0.00'}   20003      OSL   \n49     {'raw': 1.9000015, 'fmt': '1.90'}   20003      BSE   \n\n                         shortName quoteType  \\\n0                       Apple Inc.    equity   \n1                 Amazon.com, Inc.    equity   \n2     Advanced Micro Devices, Inc.    equity   \n3                    Alphabet Inc.    equity   \n4               Ford Motor Company    equity   \n..                             ...       ...   \n45                    BHG Group AB    equity   \n46          BASIC-FIT N.V. EO -,06    equity   \n47              BALKRISHNA PAPER M    equity   \n48              BLACK SEA PROPERTY    equity   \n49  BIRLA PRECISION TECHNOLOGIES L    equity   \n\n                   regularMarketPrice  \n0    {'raw': 150.94, 'fmt': '150.94'}  \n1   {'raw': 115.305, 'fmt': '115.31'}  \n2      {'raw': 66.48, 'fmt': '66.48'}  \n3      {'raw': 99.21, 'fmt': '99.21'}  \n4      {'raw': 12.02, 'fmt': '12.02'}  \n..                                ...  \n45      {'raw': 1.578, 'fmt': '1.58'}  \n46      {'raw': 31.8, 'fmt': '31.80'}  \n47      {'raw': 32.8, 'fmt': '32.80'}  \n48       {'raw': 0.99, 'fmt': '0.99'}  \n49      {'raw': 46.5, 'fmt': '46.50'}  \n\n[4313 rows x 10 columns]>"
     },
     "execution_count": 15,
     "metadata": {},
     "output_type": "execute_result"
    }
   ],
   "source": [
    "all_symbols.info"
   ],
   "metadata": {
    "collapsed": false,
    "pycharm": {
     "name": "#%%\n"
    }
   }
  },
  {
   "cell_type": "code",
   "execution_count": null,
   "outputs": [],
   "source": [
    "df2.to_json('symbols_300_350.json', index=False, orient='table')"
   ],
   "metadata": {
    "collapsed": false,
    "pycharm": {
     "name": "#%%\n"
    }
   }
  },
  {
   "cell_type": "code",
   "execution_count": null,
   "outputs": [],
   "source": [
    "import sqlite3 as sl\n",
    "conn = sl.connect('../sqlite/lookup/symbols.db')\n",
    "symbols.to_sql('Symbols', conn)"
   ],
   "metadata": {
    "collapsed": false,
    "pycharm": {
     "name": "#%%\n"
    }
   }
  },
  {
   "cell_type": "code",
   "execution_count": null,
   "outputs": [],
   "source": [
    "df2.to_sql('symbols', con, index='symbol')"
   ],
   "metadata": {
    "collapsed": false,
    "pycharm": {
     "name": "#%%\n"
    }
   }
  },
  {
   "cell_type": "code",
   "execution_count": null,
   "outputs": [],
   "source": [
    "df2"
   ],
   "metadata": {
    "collapsed": false,
    "pycharm": {
     "name": "#%%\n"
    }
   }
  },
  {
   "cell_type": "code",
   "execution_count": null,
   "outputs": [],
   "source": [
    "df2.to_sql('symbols', con)"
   ],
   "metadata": {
    "collapsed": false,
    "pycharm": {
     "name": "#%%\n"
    }
   }
  },
  {
   "cell_type": "code",
   "execution_count": null,
   "outputs": [],
   "source": [
    "con.execute(\"SELECT * FROM symbols WHERE symbol LIKE 'AEMD'\")"
   ],
   "metadata": {
    "collapsed": false,
    "pycharm": {
     "name": "#%%\n"
    }
   }
  },
  {
   "cell_type": "code",
   "execution_count": null,
   "outputs": [],
   "source": [
    "df3 = pd.read_sql('SELECT * from symbols')"
   ],
   "metadata": {
    "collapsed": false,
    "pycharm": {
     "name": "#%%\n"
    }
   }
  },
  {
   "cell_type": "code",
   "execution_count": null,
   "outputs": [],
   "source": [
    "df3 = pd.read_sql('SELECT * from symbols', con)"
   ],
   "metadata": {
    "collapsed": false,
    "pycharm": {
     "name": "#%%\n"
    }
   }
  },
  {
   "cell_type": "code",
   "execution_count": null,
   "outputs": [],
   "source": [
    "con.commit()"
   ],
   "metadata": {
    "collapsed": false,
    "pycharm": {
     "name": "#%%\n"
    }
   }
  },
  {
   "cell_type": "code",
   "execution_count": null,
   "outputs": [],
   "source": [
    "con.execute('SELECT * FROM symbols where symbol LIKE ?', '%A%')"
   ],
   "metadata": {
    "collapsed": false,
    "pycharm": {
     "name": "#%%\n"
    }
   }
  },
  {
   "cell_type": "code",
   "execution_count": null,
   "outputs": [],
   "source": [
    "con.execute('SELECT * FROM symbols where symbol LIKE \"%A%\"')"
   ],
   "metadata": {
    "collapsed": false,
    "pycharm": {
     "name": "#%%\n"
    }
   }
  },
  {
   "cell_type": "code",
   "execution_count": null,
   "outputs": [],
   "source": [],
   "metadata": {
    "collapsed": false,
    "pycharm": {
     "name": "#%%\n"
    }
   }
  }
 ],
 "metadata": {
  "kernelspec": {
   "display_name": "Python 3",
   "language": "python",
   "name": "python3"
  },
  "language_info": {
   "codemirror_mode": {
    "name": "ipython",
    "version": 2
   },
   "file_extension": ".py",
   "mimetype": "text/x-python",
   "name": "python",
   "nbconvert_exporter": "python",
   "pygments_lexer": "ipython2",
   "version": "2.7.6"
  }
 },
 "nbformat": 4,
 "nbformat_minor": 0
}