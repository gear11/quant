{
 "cells": [
  {
   "cell_type": "markdown",
   "source": [
    "Examples, see: https://plotly.com/python/candlestick-charts/\n"
   ],
   "metadata": {
    "collapsed": false,
    "pycharm": {
     "name": "#%% md\n"
    }
   }
  },
  {
   "cell_type": "code",
   "execution_count": null,
   "outputs": [],
   "source": [
    "import plotly.graph_objects as go\n",
    "import pandas as pd\n",
    "from datetime import timedelta\n",
    "\n",
    "df = pd.read_csv('../history/2022-09-07-MSFT.csv', parse_dates=['Date'])\n",
    "\n",
    "start = df.iloc[0][0]\n",
    "end = start + timedelta(minutes=30)\n",
    "df = df.loc[(df.Date > start) & (df.Date < end)]\n",
    "\n",
    "# Next Plot WAP as line\n",
    "\n",
    "fig = go.Figure(data=[go.Candlestick(x=df['Date'],\n",
    "                open=df['Open'],\n",
    "                high=df['High'],\n",
    "                low=df['Low'],\n",
    "                close=df['Close'])])\n",
    "\n",
    "fig.show()"
   ],
   "metadata": {
    "collapsed": false,
    "pycharm": {
     "name": "#%%\n"
    }
   }
  },
  {
   "cell_type": "code",
   "execution_count": null,
   "outputs": [],
   "source": [
    "from quant.util.misc import decimal as d\n",
    "\n",
    "d(9.1254567)"
   ],
   "metadata": {
    "collapsed": false,
    "pycharm": {
     "name": "#%%\n"
    }
   }
  },
  {
   "cell_type": "code",
   "execution_count": 5,
   "outputs": [
    {
     "name": "stderr",
     "output_type": "stream",
     "text": [
      "ERROR -1 2104 Market data farm connection is OK:hfarm\n",
      "ERROR -1 2104 Market data farm connection is OK:eufarmnj\n",
      "ERROR -1 2104 Market data farm connection is OK:cashfarm\n",
      "ERROR -1 2104 Market data farm connection is OK:usfuture\n",
      "ERROR -1 2104 Market data farm connection is OK:usfarm.nj\n",
      "ERROR -1 2104 Market data farm connection is OK:jfarm\n",
      "ERROR -1 2104 Market data farm connection is OK:usfarm\n",
      "ERROR -1 2106 HMDS data farm connection is OK:euhmds\n",
      "ERROR -1 2106 HMDS data farm connection is OK:cashhmds\n",
      "ERROR -1 2106 HMDS data farm connection is OK:fundfarm\n",
      "ERROR -1 2106 HMDS data farm connection is OK:ushmds\n",
      "ERROR -1 2158 Sec-def data farm connection is OK:secdefil\n"
     ]
    },
    {
     "name": "stdout",
     "output_type": "stream",
     "text": [
      "Fetching intu from ibkr between 2022-09-12 00:00:00-04:00 and 2022-09-13 00:00:00-04:00. Request: DataRequest(symbol='intu', start=datetime.datetime(2022, 9, 12, 0, 0, tzinfo=datetime.timezone(datetime.timedelta(days=-1, seconds=72000), 'EDT')), end=datetime.datetime(2022, 9, 13, 0, 0, tzinfo=datetime.timezone(datetime.timedelta(days=-1, seconds=72000), 'EDT')), resolution=<Resolution.FIVE_SEC: 5>)\n",
      "\u001B[94mStarting IB Thread\u001B[0m\n",
      "\u001B[94mConnection ready. Next valid ID: 172\u001B[0m\n",
      "\u001B[91mError. Id:-1, Code: 2104, Msg:, Market data farm connection is OK:hfarm\u001B[0m\n",
      "\u001B[91mError. Id:-1, Code: 2104, Msg:, Market data farm connection is OK:eufarmnj\u001B[0m\n",
      "\u001B[91mError. Id:-1, Code: 2104, Msg:, Market data farm connection is OK:cashfarm\u001B[0m\n",
      "\u001B[91mError. Id:-1, Code: 2104, Msg:, Market data farm connection is OK:usfuture\u001B[0m\n",
      "\u001B[91mError. Id:-1, Code: 2104, Msg:, Market data farm connection is OK:usfarm.nj\u001B[0m\n",
      "\u001B[91mError. Id:-1, Code: 2104, Msg:, Market data farm connection is OK:jfarm\u001B[0m\n",
      "\u001B[91mError. Id:-1, Code: 2104, Msg:, Market data farm connection is OK:usfarm\u001B[0m\n",
      "\u001B[91mError. Id:-1, Code: 2106, Msg:, HMDS data farm connection is OK:euhmds\u001B[0m\n",
      "\u001B[91mError. Id:-1, Code: 2106, Msg:, HMDS data farm connection is OK:cashhmds\u001B[0m\n",
      "\u001B[91mError. Id:-1, Code: 2106, Msg:, HMDS data farm connection is OK:fundfarm\u001B[0m\n",
      "\u001B[91mError. Id:-1, Code: 2106, Msg:, HMDS data farm connection is OK:ushmds\u001B[0m\n",
      "\u001B[91mError. Id:-1, Code: 2158, Msg:, Sec-def data farm connection is OK:secdefil\u001B[0m\n",
      "\u001B[94mRequesting historical data. Original request: DataRequest(symbol='intu', start=datetime.datetime(2022, 9, 12, 0, 0, tzinfo=datetime.timezone(datetime.timedelta(days=-1, seconds=72000), 'EDT')), end=datetime.datetime(2022, 9, 13, 0, 0, tzinfo=datetime.timezone(datetime.timedelta(days=-1, seconds=72000), 'EDT')), resolution=<Resolution.FIVE_SEC: 5>)\u001B[0m\n",
      "\u001B[94mRequesting historical data. IBKR request: req_id: 5 query_time: 20220913-00:00:00 duration: 1 D bar_size: 5 secs\u001B[0m\n",
      "\u001B[94mCompleted historical data request (4680 results): DataRequest(symbol='intu', start=datetime.datetime(2022, 9, 12, 0, 0, tzinfo=datetime.timezone(datetime.timedelta(days=-1, seconds=72000), 'EDT')), end=datetime.datetime(2022, 9, 13, 0, 0, tzinfo=datetime.timezone(datetime.timedelta(days=-1, seconds=72000), 'EDT')), resolution=<Resolution.FIVE_SEC: 5>)\u001B[0m\n",
      "\u001B[94mReceived 4680 tick bars\u001B[0m\n"
     ]
    },
    {
     "data": {
      "text/plain": "              Open         High          Low        Close    Ref Price  \\\ncount  4680.000000  4680.000000  4680.000000  4680.000000  4680.000000   \nmean    453.774194   453.786746   453.761404   453.776071   453.773942   \nstd       2.047163     2.058208     2.039445     2.050985     2.047572   \nmin     449.880000   449.880000   449.880000   449.880000   449.880000   \n25%     452.540000   452.560000   452.530000   452.547500   452.540000   \n50%     453.330000   453.340000   453.325000   453.330000   453.330000   \n75%     454.230000   454.240000   454.230000   454.232500   454.232500   \nmax     459.810000   459.990000   459.810000   459.810000   459.810000   \n\n            Volume  \ncount  4680.000000  \nmean      1.261966  \nstd       5.845135  \nmin       0.000000  \n25%       0.000000  \n50%       0.000000  \n75%       1.000000  \nmax     306.000000  ",
      "text/html": "<div>\n<style scoped>\n    .dataframe tbody tr th:only-of-type {\n        vertical-align: middle;\n    }\n\n    .dataframe tbody tr th {\n        vertical-align: top;\n    }\n\n    .dataframe thead th {\n        text-align: right;\n    }\n</style>\n<table border=\"1\" class=\"dataframe\">\n  <thead>\n    <tr style=\"text-align: right;\">\n      <th></th>\n      <th>Open</th>\n      <th>High</th>\n      <th>Low</th>\n      <th>Close</th>\n      <th>Ref Price</th>\n      <th>Volume</th>\n    </tr>\n  </thead>\n  <tbody>\n    <tr>\n      <th>count</th>\n      <td>4680.000000</td>\n      <td>4680.000000</td>\n      <td>4680.000000</td>\n      <td>4680.000000</td>\n      <td>4680.000000</td>\n      <td>4680.000000</td>\n    </tr>\n    <tr>\n      <th>mean</th>\n      <td>453.774194</td>\n      <td>453.786746</td>\n      <td>453.761404</td>\n      <td>453.776071</td>\n      <td>453.773942</td>\n      <td>1.261966</td>\n    </tr>\n    <tr>\n      <th>std</th>\n      <td>2.047163</td>\n      <td>2.058208</td>\n      <td>2.039445</td>\n      <td>2.050985</td>\n      <td>2.047572</td>\n      <td>5.845135</td>\n    </tr>\n    <tr>\n      <th>min</th>\n      <td>449.880000</td>\n      <td>449.880000</td>\n      <td>449.880000</td>\n      <td>449.880000</td>\n      <td>449.880000</td>\n      <td>0.000000</td>\n    </tr>\n    <tr>\n      <th>25%</th>\n      <td>452.540000</td>\n      <td>452.560000</td>\n      <td>452.530000</td>\n      <td>452.547500</td>\n      <td>452.540000</td>\n      <td>0.000000</td>\n    </tr>\n    <tr>\n      <th>50%</th>\n      <td>453.330000</td>\n      <td>453.340000</td>\n      <td>453.325000</td>\n      <td>453.330000</td>\n      <td>453.330000</td>\n      <td>0.000000</td>\n    </tr>\n    <tr>\n      <th>75%</th>\n      <td>454.230000</td>\n      <td>454.240000</td>\n      <td>454.230000</td>\n      <td>454.232500</td>\n      <td>454.232500</td>\n      <td>1.000000</td>\n    </tr>\n    <tr>\n      <th>max</th>\n      <td>459.810000</td>\n      <td>459.990000</td>\n      <td>459.810000</td>\n      <td>459.810000</td>\n      <td>459.810000</td>\n      <td>306.000000</td>\n    </tr>\n  </tbody>\n</table>\n</div>"
     },
     "execution_count": 5,
     "metadata": {},
     "output_type": "execute_result"
    }
   ],
   "source": [
    "from quant.fetch import fetch\n",
    "from quant.markets import Resolution\n",
    "df = fetch('ibkr', 'intu', '2022-09-12', '2022-09-13', Resolution.FIVE_SEC)\n",
    "df.describe()"
   ],
   "metadata": {
    "collapsed": false,
    "pycharm": {
     "name": "#%%\n"
    }
   }
  },
  {
   "cell_type": "code",
   "execution_count": null,
   "outputs": [],
   "source": [
    "df.describe(\n",
    ")"
   ],
   "metadata": {
    "collapsed": false,
    "pycharm": {
     "name": "#%%\n"
    }
   }
  },
  {
   "cell_type": "code",
   "execution_count": null,
   "outputs": [],
   "source": [],
   "metadata": {
    "collapsed": false,
    "pycharm": {
     "name": "#%%\n"
    }
   }
  }
 ],
 "metadata": {
  "kernelspec": {
   "display_name": "Python 3",
   "language": "python",
   "name": "python3"
  },
  "language_info": {
   "codemirror_mode": {
    "name": "ipython",
    "version": 2
   },
   "file_extension": ".py",
   "mimetype": "text/x-python",
   "name": "python",
   "nbconvert_exporter": "python",
   "pygments_lexer": "ipython2",
   "version": "2.7.6"
  }
 },
 "nbformat": 4,
 "nbformat_minor": 0
}